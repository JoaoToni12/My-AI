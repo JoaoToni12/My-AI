{
  "nbformat": 4,
  "nbformat_minor": 0,
  "metadata": {
    "colab": {
      "provenance": [],
      "authorship_tag": "ABX9TyPsG3y+j0v1kNnZOgbte2Vf",
      "include_colab_link": true
    },
    "kernelspec": {
      "name": "python3",
      "display_name": "Python 3"
    },
    "language_info": {
      "name": "python"
    }
  },
  "cells": [
    {
      "cell_type": "markdown",
      "metadata": {
        "id": "view-in-github",
        "colab_type": "text"
      },
      "source": [
        "<a href=\"https://colab.research.google.com/github/JoaoToni12/My-AI/blob/main/Degrees.ipynb\" target=\"_parent\"><img src=\"https://colab.research.google.com/assets/colab-badge.svg\" alt=\"Open In Colab\"/></a>"
      ]
    },
    {
      "cell_type": "code",
      "execution_count": 4,
      "metadata": {
        "id": "I8HM-b0ynMId",
        "colab": {
          "base_uri": "https://localhost:8080/"
        },
        "outputId": "a32f6511-4830-4bb6-9e75-72788db58418"
      },
      "outputs": [
        {
          "output_type": "stream",
          "name": "stdout",
          "text": [
            "Loading data...\n",
            "Data loaded.\n",
            "Name: Jim Carrey\n",
            "Name: Blake Lively\n",
            "2 degrees of separation.\n",
            "1: Jim Carrey and Jude Law starred in Lemony Snicket's A Series of Unfortunate Events\n",
            "2: Jude Law and Blake Lively starred in The Rhythm Section\n"
          ]
        }
      ],
      "source": [
        "run degrees.py"
      ]
    }
  ]
}